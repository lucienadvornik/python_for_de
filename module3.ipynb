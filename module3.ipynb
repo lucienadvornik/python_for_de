{
 "cells": [
  {
   "cell_type": "markdown",
   "metadata": {},
   "source": [
    "# Module 3\n",
    "- Create modules \n",
    "- Run unit tests\n",
    "- Package applications\n",
    "- Python coding standards\n",
    "- Static code analysis"
   ]
  },
  {
   "cell_type": "markdown",
   "metadata": {},
   "source": []
  }
 ],
 "metadata": {
  "language_info": {
   "name": "python"
  }
 },
 "nbformat": 4,
 "nbformat_minor": 2
}
